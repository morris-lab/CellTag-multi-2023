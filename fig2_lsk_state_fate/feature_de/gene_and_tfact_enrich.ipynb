{
 "cells": [
  {
   "cell_type": "markdown",
   "metadata": {},
   "source": [
    "## Perform enrichment for TF activity and gene expression in d2.5 sisters with defined fate"
   ]
  },
  {
   "cell_type": "code",
   "execution_count": 1,
   "metadata": {},
   "outputs": [],
   "source": [
    "import pandas as pd\n",
    "import numpy as np\n",
    "from sklearn.neighbors import kneighbors_graph\n",
    "import os\n",
    "\n",
    "import sf_utils"
   ]
  },
  {
   "cell_type": "code",
   "execution_count": 2,
   "metadata": {},
   "outputs": [],
   "source": [
    "#import clones\n",
    "clone_table = pd.read_csv(\"../../hsc.rna&atac.r1&2_master_v2.csv\", index_col=0)\n",
    "clone_table_d2 = clone_table[clone_table['day']=='d2'].copy()"
   ]
  },
  {
   "cell_type": "code",
   "execution_count": 3,
   "metadata": {},
   "outputs": [],
   "source": [
    "#import tf activitiy mtx\n",
    "atac_cv = pd.read_csv(\"../../lsk_atac_reanalysis/atac_analysis/output_files/lsk_subset2/lskatac_tfact.csv\", index_col=0)"
   ]
  },
  {
   "cell_type": "code",
   "execution_count": 4,
   "metadata": {},
   "outputs": [
    {
     "data": {
      "text/plain": [
       "Index(['Crebzf_122', 'Pou3f2_555'], dtype='object')"
      ]
     },
     "execution_count": 4,
     "metadata": {},
     "output_type": "execute_result"
    }
   ],
   "source": [
    "atac_cv.columns[atac_cv.isna().any()]"
   ]
  },
  {
   "cell_type": "code",
   "execution_count": 5,
   "metadata": {},
   "outputs": [],
   "source": [
    "atac_cv.drop(atac_cv.columns[atac_cv.isna().any()], axis=1, inplace=True)"
   ]
  },
  {
   "cell_type": "code",
   "execution_count": 6,
   "metadata": {},
   "outputs": [
    {
     "data": {
      "text/plain": [
       "array(['no_fate_cells', 'Unk_3', 'Unk_2', 'Mono', 'Neutro', 'MPP/GMP',\n",
       "       'MPP', 'uns', 'MEP', 'Unk_1', 'Ery/Meg', 'Ccr7_DC',\n",
       "       'Baso/Eos/Mast', 'pDC', 'Lym'], dtype=object)"
      ]
     },
     "execution_count": 6,
     "metadata": {},
     "output_type": "execute_result"
    }
   ],
   "source": [
    "clone_table_d2.fate.unique()"
   ]
  },
  {
   "cell_type": "code",
   "execution_count": 7,
   "metadata": {},
   "outputs": [],
   "source": [
    "#combine pDC and Ccr7DC\n",
    "clone_table_d2.loc[clone_table_d2.fate.isin(['pDC','Ccr7_DC']),'fate'] = 'pDC/Ccr7DC'"
   ]
  },
  {
   "cell_type": "code",
   "execution_count": 8,
   "metadata": {},
   "outputs": [
    {
     "name": "stdout",
     "output_type": "stream",
     "text": [
      "Mono\n"
     ]
    },
    {
     "name": "stderr",
     "output_type": "stream",
     "text": [
      "/Users/jindalk/opt/anaconda3/lib/python3.8/site-packages/pandas/core/arraylike.py:397: RuntimeWarning: invalid value encountered in log2\n",
      "  result = getattr(ufunc, method)(*inputs, **kwargs)\n"
     ]
    },
    {
     "name": "stdout",
     "output_type": "stream",
     "text": [
      "Neutro\n"
     ]
    },
    {
     "name": "stderr",
     "output_type": "stream",
     "text": [
      "/Users/jindalk/opt/anaconda3/lib/python3.8/site-packages/pandas/core/arraylike.py:397: RuntimeWarning: invalid value encountered in log2\n",
      "  result = getattr(ufunc, method)(*inputs, **kwargs)\n"
     ]
    },
    {
     "name": "stdout",
     "output_type": "stream",
     "text": [
      "Ery/Meg\n"
     ]
    },
    {
     "name": "stderr",
     "output_type": "stream",
     "text": [
      "/Users/jindalk/opt/anaconda3/lib/python3.8/site-packages/pandas/core/arraylike.py:397: RuntimeWarning: invalid value encountered in log2\n",
      "  result = getattr(ufunc, method)(*inputs, **kwargs)\n"
     ]
    },
    {
     "name": "stdout",
     "output_type": "stream",
     "text": [
      "Lym\n",
      "performing knn imputation\n"
     ]
    },
    {
     "name": "stderr",
     "output_type": "stream",
     "text": [
      "/Users/jindalk/opt/anaconda3/lib/python3.8/site-packages/pandas/core/arraylike.py:397: RuntimeWarning: invalid value encountered in log2\n",
      "  result = getattr(ufunc, method)(*inputs, **kwargs)\n"
     ]
    },
    {
     "name": "stdout",
     "output_type": "stream",
     "text": [
      "pDC/Ccr7DC\n",
      "performing knn imputation\n"
     ]
    },
    {
     "name": "stderr",
     "output_type": "stream",
     "text": [
      "/Users/jindalk/opt/anaconda3/lib/python3.8/site-packages/pandas/core/arraylike.py:397: RuntimeWarning: invalid value encountered in log2\n",
      "  result = getattr(ufunc, method)(*inputs, **kwargs)\n"
     ]
    },
    {
     "name": "stdout",
     "output_type": "stream",
     "text": [
      "Baso/Eos/Mast\n"
     ]
    },
    {
     "name": "stderr",
     "output_type": "stream",
     "text": [
      "/Users/jindalk/opt/anaconda3/lib/python3.8/site-packages/pandas/core/arraylike.py:397: RuntimeWarning: invalid value encountered in log2\n",
      "  result = getattr(ufunc, method)(*inputs, **kwargs)\n"
     ]
    }
   ],
   "source": [
    "tf_enrichment_table = {}\n",
    "nn_impute_dict = {'Mono':0,\n",
    "                  'Neutro':0,\n",
    "                  'Ery/Meg':0,\n",
    "                  'Baso/Eos/Mast':0,\n",
    "                  'pDC/Ccr7DC':10,\n",
    "                  'Lym':10}\n",
    "\n",
    "for fate in ['Mono', 'Neutro','Ery/Meg', 'Lym', 'pDC/Ccr7DC','Baso/Eos/Mast']:\n",
    "    print(fate)\n",
    "    clone_curr = clone_table_d2[clone_table_d2.fate == fate].copy()\n",
    "    \n",
    "    if(nn_impute_dict[fate] > 0):\n",
    "        print(\"performing knn imputation\")\n",
    "        \n",
    "        #create k-nn graph\n",
    "        atac_emb = pd.read_csv(\"../../lsk_atac_reanalysis/atac_analysis/output_files/lsk_subset2/lskatac_lsi.csv\", index_col=0)\n",
    "        knn_graph = kneighbors_graph(atac_emb,nn_impute_dict[fate])\n",
    "        atac_cells = atac_emb.index\n",
    "    \n",
    "        # perform k-nn imputation\n",
    "        cells_final = sf_utils.merge_nn(knn_graph, atac_cells, clone_curr['cell.bc'])\n",
    "        \n",
    "    else:\n",
    "        cells_final = clone_curr['cell.bc'].copy()\n",
    "    \n",
    "\n",
    "    tf_list = sf_utils.enrich_fn(cells_final, atac_cv.sample(n=500).index,atac_cv,col1_id=fate, col2_id=\"others\", return_sig=False)\n",
    "    tf_list['tf_name'] = tf_list.index.map(lambda x:x.split(\"_\")[0])\n",
    "    tf_enrichment_table[fate] = tf_list\n",
    "    "
   ]
  },
  {
   "cell_type": "code",
   "execution_count": 9,
   "metadata": {},
   "outputs": [],
   "source": [
    "name_list = list(map(lambda x: \"-\".join(x.split(\"_\")), tf_enrichment_table.keys()))\n",
    "name_list = list(map(lambda x: \"_\".join(x.split(\"/\")), name_list))"
   ]
  },
  {
   "cell_type": "code",
   "execution_count": 10,
   "metadata": {},
   "outputs": [
    {
     "data": {
      "text/plain": [
       "['Mono', 'Neutro', 'Ery_Meg', 'Lym', 'pDC_Ccr7DC', 'Baso_Eos_Mast']"
      ]
     },
     "execution_count": 10,
     "metadata": {},
     "output_type": "execute_result"
    }
   ],
   "source": [
    "name_list"
   ]
  },
  {
   "cell_type": "code",
   "execution_count": 14,
   "metadata": {},
   "outputs": [
    {
     "data": {
      "text/html": [
       "<div>\n",
       "<style scoped>\n",
       "    .dataframe tbody tr th:only-of-type {\n",
       "        vertical-align: middle;\n",
       "    }\n",
       "\n",
       "    .dataframe tbody tr th {\n",
       "        vertical-align: top;\n",
       "    }\n",
       "\n",
       "    .dataframe thead th {\n",
       "        text-align: right;\n",
       "    }\n",
       "</style>\n",
       "<table border=\"1\" class=\"dataframe\">\n",
       "  <thead>\n",
       "    <tr style=\"text-align: right;\">\n",
       "      <th></th>\n",
       "      <th>Mono</th>\n",
       "      <th>others</th>\n",
       "      <th>delta</th>\n",
       "      <th>log2fc</th>\n",
       "      <th>A</th>\n",
       "      <th>p-val</th>\n",
       "      <th>p-adj</th>\n",
       "      <th>p-adj-log</th>\n",
       "      <th>is_significant</th>\n",
       "      <th>tf_name</th>\n",
       "    </tr>\n",
       "  </thead>\n",
       "  <tbody>\n",
       "    <tr>\n",
       "      <th>Atf5_791</th>\n",
       "      <td>0.736954</td>\n",
       "      <td>-0.154195</td>\n",
       "      <td>0.891149</td>\n",
       "      <td>NaN</td>\n",
       "      <td>0.368913</td>\n",
       "      <td>6.601941e-09</td>\n",
       "      <td>1.690645e-06</td>\n",
       "      <td>5.771948</td>\n",
       "      <td>True</td>\n",
       "      <td>Atf5</td>\n",
       "    </tr>\n",
       "    <tr>\n",
       "      <th>Cebpg_129</th>\n",
       "      <td>0.724964</td>\n",
       "      <td>-0.147482</td>\n",
       "      <td>0.872445</td>\n",
       "      <td>NaN</td>\n",
       "      <td>0.365962</td>\n",
       "      <td>2.826022e-07</td>\n",
       "      <td>3.040692e-05</td>\n",
       "      <td>4.517028</td>\n",
       "      <td>True</td>\n",
       "      <td>Cebpg</td>\n",
       "    </tr>\n",
       "    <tr>\n",
       "      <th>Cebpd_97</th>\n",
       "      <td>0.843509</td>\n",
       "      <td>0.012946</td>\n",
       "      <td>0.830564</td>\n",
       "      <td>5.821120</td>\n",
       "      <td>0.514226</td>\n",
       "      <td>1.150098e-08</td>\n",
       "      <td>1.690645e-06</td>\n",
       "      <td>5.771948</td>\n",
       "      <td>True</td>\n",
       "      <td>Cebpd</td>\n",
       "    </tr>\n",
       "    <tr>\n",
       "      <th>Cebpb_130</th>\n",
       "      <td>0.843509</td>\n",
       "      <td>0.012946</td>\n",
       "      <td>0.830564</td>\n",
       "      <td>5.821120</td>\n",
       "      <td>0.514226</td>\n",
       "      <td>1.150098e-08</td>\n",
       "      <td>1.690645e-06</td>\n",
       "      <td>5.771948</td>\n",
       "      <td>True</td>\n",
       "      <td>Cebpb</td>\n",
       "    </tr>\n",
       "    <tr>\n",
       "      <th>Cebpa_115</th>\n",
       "      <td>0.559357</td>\n",
       "      <td>-0.123496</td>\n",
       "      <td>0.682854</td>\n",
       "      <td>NaN</td>\n",
       "      <td>0.284432</td>\n",
       "      <td>1.963168e-09</td>\n",
       "      <td>9.643910e-07</td>\n",
       "      <td>6.015747</td>\n",
       "      <td>True</td>\n",
       "      <td>Cebpa</td>\n",
       "    </tr>\n",
       "    <tr>\n",
       "      <th>...</th>\n",
       "      <td>...</td>\n",
       "      <td>...</td>\n",
       "      <td>...</td>\n",
       "      <td>...</td>\n",
       "      <td>...</td>\n",
       "      <td>...</td>\n",
       "      <td>...</td>\n",
       "      <td>...</td>\n",
       "      <td>...</td>\n",
       "      <td>...</td>\n",
       "    </tr>\n",
       "    <tr>\n",
       "      <th>Mesp1_58</th>\n",
       "      <td>0.367368</td>\n",
       "      <td>0.718631</td>\n",
       "      <td>-0.351263</td>\n",
       "      <td>-0.966236</td>\n",
       "      <td>0.625738</td>\n",
       "      <td>2.237568e-04</td>\n",
       "      <td>8.223064e-03</td>\n",
       "      <td>2.084966</td>\n",
       "      <td>True</td>\n",
       "      <td>Mesp1</td>\n",
       "    </tr>\n",
       "    <tr>\n",
       "      <th>Mesp2_57</th>\n",
       "      <td>0.367368</td>\n",
       "      <td>0.718631</td>\n",
       "      <td>-0.351263</td>\n",
       "      <td>-0.966236</td>\n",
       "      <td>0.625738</td>\n",
       "      <td>2.237568e-04</td>\n",
       "      <td>8.223064e-03</td>\n",
       "      <td>2.084966</td>\n",
       "      <td>True</td>\n",
       "      <td>Mesp2</td>\n",
       "    </tr>\n",
       "    <tr>\n",
       "      <th>Tcf3_31</th>\n",
       "      <td>0.326462</td>\n",
       "      <td>0.687783</td>\n",
       "      <td>-0.361321</td>\n",
       "      <td>-1.072705</td>\n",
       "      <td>0.591797</td>\n",
       "      <td>4.335077e-04</td>\n",
       "      <td>1.318461e-02</td>\n",
       "      <td>1.879933</td>\n",
       "      <td>True</td>\n",
       "      <td>Tcf3</td>\n",
       "    </tr>\n",
       "    <tr>\n",
       "      <th>Tcf12_59</th>\n",
       "      <td>0.360568</td>\n",
       "      <td>0.749239</td>\n",
       "      <td>-0.388671</td>\n",
       "      <td>-1.053094</td>\n",
       "      <td>0.636825</td>\n",
       "      <td>1.089247e-04</td>\n",
       "      <td>4.803577e-03</td>\n",
       "      <td>2.318435</td>\n",
       "      <td>True</td>\n",
       "      <td>Tcf12</td>\n",
       "    </tr>\n",
       "    <tr>\n",
       "      <th>Snai2_799</th>\n",
       "      <td>0.253293</td>\n",
       "      <td>0.654048</td>\n",
       "      <td>-0.400755</td>\n",
       "      <td>-1.364594</td>\n",
       "      <td>0.539700</td>\n",
       "      <td>1.667325e-04</td>\n",
       "      <td>6.684456e-03</td>\n",
       "      <td>2.174934</td>\n",
       "      <td>True</td>\n",
       "      <td>Snai2</td>\n",
       "    </tr>\n",
       "  </tbody>\n",
       "</table>\n",
       "<p>882 rows × 10 columns</p>\n",
       "</div>"
      ],
      "text/plain": [
       "               Mono    others     delta    log2fc         A         p-val  \\\n",
       "Atf5_791   0.736954 -0.154195  0.891149       NaN  0.368913  6.601941e-09   \n",
       "Cebpg_129  0.724964 -0.147482  0.872445       NaN  0.365962  2.826022e-07   \n",
       "Cebpd_97   0.843509  0.012946  0.830564  5.821120  0.514226  1.150098e-08   \n",
       "Cebpb_130  0.843509  0.012946  0.830564  5.821120  0.514226  1.150098e-08   \n",
       "Cebpa_115  0.559357 -0.123496  0.682854       NaN  0.284432  1.963168e-09   \n",
       "...             ...       ...       ...       ...       ...           ...   \n",
       "Mesp1_58   0.367368  0.718631 -0.351263 -0.966236  0.625738  2.237568e-04   \n",
       "Mesp2_57   0.367368  0.718631 -0.351263 -0.966236  0.625738  2.237568e-04   \n",
       "Tcf3_31    0.326462  0.687783 -0.361321 -1.072705  0.591797  4.335077e-04   \n",
       "Tcf12_59   0.360568  0.749239 -0.388671 -1.053094  0.636825  1.089247e-04   \n",
       "Snai2_799  0.253293  0.654048 -0.400755 -1.364594  0.539700  1.667325e-04   \n",
       "\n",
       "                  p-adj  p-adj-log  is_significant tf_name  \n",
       "Atf5_791   1.690645e-06   5.771948            True    Atf5  \n",
       "Cebpg_129  3.040692e-05   4.517028            True   Cebpg  \n",
       "Cebpd_97   1.690645e-06   5.771948            True   Cebpd  \n",
       "Cebpb_130  1.690645e-06   5.771948            True   Cebpb  \n",
       "Cebpa_115  9.643910e-07   6.015747            True   Cebpa  \n",
       "...                 ...        ...             ...     ...  \n",
       "Mesp1_58   8.223064e-03   2.084966            True   Mesp1  \n",
       "Mesp2_57   8.223064e-03   2.084966            True   Mesp2  \n",
       "Tcf3_31    1.318461e-02   1.879933            True    Tcf3  \n",
       "Tcf12_59   4.803577e-03   2.318435            True   Tcf12  \n",
       "Snai2_799  6.684456e-03   2.174934            True   Snai2  \n",
       "\n",
       "[882 rows x 10 columns]"
      ]
     },
     "execution_count": 14,
     "metadata": {},
     "output_type": "execute_result"
    }
   ],
   "source": [
    "tf_enrichment_table['Mono'].sort_values('delta', ascending=False)"
   ]
  },
  {
   "cell_type": "code",
   "execution_count": 55,
   "metadata": {},
   "outputs": [],
   "source": [
    "if not os.path.exists(\"220208/tf_activity\"):\n",
    "    os.makedirs(\"220208/tf_activity\")\n",
    "    \n",
    "for name_curr,dict_item in zip(name_list,tf_enrichment_table.items()):\n",
    "    dict_item[1].to_csv(f\"220208/tf_activity/{name_curr}_state_tfact_markers.csv\")"
   ]
  },
  {
   "cell_type": "code",
   "execution_count": 57,
   "metadata": {},
   "outputs": [
    {
     "data": {
      "text/html": [
       "<div>\n",
       "<style scoped>\n",
       "    .dataframe tbody tr th:only-of-type {\n",
       "        vertical-align: middle;\n",
       "    }\n",
       "\n",
       "    .dataframe tbody tr th {\n",
       "        vertical-align: top;\n",
       "    }\n",
       "\n",
       "    .dataframe thead th {\n",
       "        text-align: right;\n",
       "    }\n",
       "</style>\n",
       "<table border=\"1\" class=\"dataframe\">\n",
       "  <thead>\n",
       "    <tr style=\"text-align: right;\">\n",
       "      <th></th>\n",
       "      <th>pDC/Ccr7DC</th>\n",
       "      <th>others</th>\n",
       "      <th>delta</th>\n",
       "      <th>log2fc</th>\n",
       "      <th>A</th>\n",
       "      <th>p-val</th>\n",
       "      <th>p-adj</th>\n",
       "      <th>p-adj-log</th>\n",
       "      <th>is_significant</th>\n",
       "      <th>tf_name</th>\n",
       "    </tr>\n",
       "  </thead>\n",
       "  <tbody>\n",
       "    <tr>\n",
       "      <th>Sfpi1_265</th>\n",
       "      <td>0.191961</td>\n",
       "      <td>-1.042593</td>\n",
       "      <td>1.234554</td>\n",
       "      <td>NaN</td>\n",
       "      <td>-0.799158</td>\n",
       "      <td>1.724948e-06</td>\n",
       "      <td>0.000304</td>\n",
       "      <td>3.516725</td>\n",
       "      <td>True</td>\n",
       "      <td>Sfpi1</td>\n",
       "    </tr>\n",
       "    <tr>\n",
       "      <th>Bcl11a_795</th>\n",
       "      <td>-0.061588</td>\n",
       "      <td>-1.063597</td>\n",
       "      <td>1.002009</td>\n",
       "      <td>-4.239233</td>\n",
       "      <td>-1.192949</td>\n",
       "      <td>9.784884e-07</td>\n",
       "      <td>0.000250</td>\n",
       "      <td>3.602077</td>\n",
       "      <td>True</td>\n",
       "      <td>Bcl11a</td>\n",
       "    </tr>\n",
       "    <tr>\n",
       "      <th>Bcl11b_814</th>\n",
       "      <td>-0.061588</td>\n",
       "      <td>-1.063597</td>\n",
       "      <td>1.002009</td>\n",
       "      <td>-4.239233</td>\n",
       "      <td>-1.192949</td>\n",
       "      <td>9.784884e-07</td>\n",
       "      <td>0.000250</td>\n",
       "      <td>3.602077</td>\n",
       "      <td>True</td>\n",
       "      <td>Bcl11b</td>\n",
       "    </tr>\n",
       "    <tr>\n",
       "      <th>Spic_269</th>\n",
       "      <td>0.331737</td>\n",
       "      <td>-0.468366</td>\n",
       "      <td>0.800103</td>\n",
       "      <td>NaN</td>\n",
       "      <td>-0.102084</td>\n",
       "      <td>7.156825e-06</td>\n",
       "      <td>0.001052</td>\n",
       "      <td>2.977962</td>\n",
       "      <td>True</td>\n",
       "      <td>Spic</td>\n",
       "    </tr>\n",
       "    <tr>\n",
       "      <th>Irf1_631</th>\n",
       "      <td>0.869811</td>\n",
       "      <td>0.073876</td>\n",
       "      <td>0.795935</td>\n",
       "      <td>3.527871</td>\n",
       "      <td>0.557624</td>\n",
       "      <td>1.981639e-08</td>\n",
       "      <td>0.000017</td>\n",
       "      <td>4.757507</td>\n",
       "      <td>True</td>\n",
       "      <td>Irf1</td>\n",
       "    </tr>\n",
       "    <tr>\n",
       "      <th>...</th>\n",
       "      <td>...</td>\n",
       "      <td>...</td>\n",
       "      <td>...</td>\n",
       "      <td>...</td>\n",
       "      <td>...</td>\n",
       "      <td>...</td>\n",
       "      <td>...</td>\n",
       "      <td>...</td>\n",
       "      <td>...</td>\n",
       "      <td>...</td>\n",
       "    </tr>\n",
       "    <tr>\n",
       "      <th>Gata3_384</th>\n",
       "      <td>-0.328269</td>\n",
       "      <td>0.354874</td>\n",
       "      <td>-0.683143</td>\n",
       "      <td>NaN</td>\n",
       "      <td>0.019065</td>\n",
       "      <td>3.348895e-02</td>\n",
       "      <td>0.509263</td>\n",
       "      <td>0.293058</td>\n",
       "      <td>False</td>\n",
       "      <td>Gata3</td>\n",
       "    </tr>\n",
       "    <tr>\n",
       "      <th>Gata4_386</th>\n",
       "      <td>-0.303133</td>\n",
       "      <td>0.394870</td>\n",
       "      <td>-0.698002</td>\n",
       "      <td>NaN</td>\n",
       "      <td>0.064701</td>\n",
       "      <td>1.584733e-01</td>\n",
       "      <td>0.716787</td>\n",
       "      <td>0.144610</td>\n",
       "      <td>False</td>\n",
       "      <td>Gata4</td>\n",
       "    </tr>\n",
       "    <tr>\n",
       "      <th>Gata2_383</th>\n",
       "      <td>-0.299565</td>\n",
       "      <td>0.464737</td>\n",
       "      <td>-0.764302</td>\n",
       "      <td>NaN</td>\n",
       "      <td>0.114482</td>\n",
       "      <td>1.061704e-01</td>\n",
       "      <td>0.627323</td>\n",
       "      <td>0.202509</td>\n",
       "      <td>False</td>\n",
       "      <td>Gata2</td>\n",
       "    </tr>\n",
       "    <tr>\n",
       "      <th>Gata1_387</th>\n",
       "      <td>-0.380034</td>\n",
       "      <td>0.406139</td>\n",
       "      <td>-0.786173</td>\n",
       "      <td>NaN</td>\n",
       "      <td>0.018709</td>\n",
       "      <td>5.503726e-02</td>\n",
       "      <td>0.566927</td>\n",
       "      <td>0.246473</td>\n",
       "      <td>False</td>\n",
       "      <td>Gata1</td>\n",
       "    </tr>\n",
       "    <tr>\n",
       "      <th>Gata5_385</th>\n",
       "      <td>-0.480162</td>\n",
       "      <td>0.370927</td>\n",
       "      <td>-0.851089</td>\n",
       "      <td>NaN</td>\n",
       "      <td>-0.081030</td>\n",
       "      <td>9.220761e-03</td>\n",
       "      <td>0.271433</td>\n",
       "      <td>0.566337</td>\n",
       "      <td>False</td>\n",
       "      <td>Gata5</td>\n",
       "    </tr>\n",
       "  </tbody>\n",
       "</table>\n",
       "<p>882 rows × 10 columns</p>\n",
       "</div>"
      ],
      "text/plain": [
       "            pDC/Ccr7DC    others     delta    log2fc         A         p-val  \\\n",
       "Sfpi1_265     0.191961 -1.042593  1.234554       NaN -0.799158  1.724948e-06   \n",
       "Bcl11a_795   -0.061588 -1.063597  1.002009 -4.239233 -1.192949  9.784884e-07   \n",
       "Bcl11b_814   -0.061588 -1.063597  1.002009 -4.239233 -1.192949  9.784884e-07   \n",
       "Spic_269      0.331737 -0.468366  0.800103       NaN -0.102084  7.156825e-06   \n",
       "Irf1_631      0.869811  0.073876  0.795935  3.527871  0.557624  1.981639e-08   \n",
       "...                ...       ...       ...       ...       ...           ...   \n",
       "Gata3_384    -0.328269  0.354874 -0.683143       NaN  0.019065  3.348895e-02   \n",
       "Gata4_386    -0.303133  0.394870 -0.698002       NaN  0.064701  1.584733e-01   \n",
       "Gata2_383    -0.299565  0.464737 -0.764302       NaN  0.114482  1.061704e-01   \n",
       "Gata1_387    -0.380034  0.406139 -0.786173       NaN  0.018709  5.503726e-02   \n",
       "Gata5_385    -0.480162  0.370927 -0.851089       NaN -0.081030  9.220761e-03   \n",
       "\n",
       "               p-adj  p-adj-log  is_significant tf_name  \n",
       "Sfpi1_265   0.000304   3.516725            True   Sfpi1  \n",
       "Bcl11a_795  0.000250   3.602077            True  Bcl11a  \n",
       "Bcl11b_814  0.000250   3.602077            True  Bcl11b  \n",
       "Spic_269    0.001052   2.977962            True    Spic  \n",
       "Irf1_631    0.000017   4.757507            True    Irf1  \n",
       "...              ...        ...             ...     ...  \n",
       "Gata3_384   0.509263   0.293058           False   Gata3  \n",
       "Gata4_386   0.716787   0.144610           False   Gata4  \n",
       "Gata2_383   0.627323   0.202509           False   Gata2  \n",
       "Gata1_387   0.566927   0.246473           False   Gata1  \n",
       "Gata5_385   0.271433   0.566337           False   Gata5  \n",
       "\n",
       "[882 rows x 10 columns]"
      ]
     },
     "execution_count": 57,
     "metadata": {},
     "output_type": "execute_result"
    }
   ],
   "source": [
    "tf_enrichment_table['pDC/Ccr7DC']"
   ]
  },
  {
   "cell_type": "markdown",
   "metadata": {},
   "source": [
    "# Gene expr enrichment"
   ]
  },
  {
   "cell_type": "code",
   "execution_count": 24,
   "metadata": {},
   "outputs": [],
   "source": [
    "gene_expr = pd.read_csv(\"../../lsk_rna_proc/lsk_rna_state_integrated_data.csv\", index_col=0)"
   ]
  },
  {
   "cell_type": "code",
   "execution_count": 59,
   "metadata": {},
   "outputs": [],
   "source": [
    "gene_expr_random_cells = np.genfromtxt(\"gene_expr_random_cells.txt\", dtype=str)"
   ]
  },
  {
   "cell_type": "code",
   "execution_count": 60,
   "metadata": {},
   "outputs": [
    {
     "name": "stdout",
     "output_type": "stream",
     "text": [
      "Mono\n"
     ]
    },
    {
     "name": "stderr",
     "output_type": "stream",
     "text": [
      "/Users/jindalk/opt/anaconda3/lib/python3.8/site-packages/pandas/core/arraylike.py:358: RuntimeWarning: invalid value encountered in log2\n",
      "  result = getattr(ufunc, method)(*inputs, **kwargs)\n"
     ]
    },
    {
     "name": "stdout",
     "output_type": "stream",
     "text": [
      "Neutro\n"
     ]
    },
    {
     "name": "stderr",
     "output_type": "stream",
     "text": [
      "/Users/jindalk/opt/anaconda3/lib/python3.8/site-packages/pandas/core/arraylike.py:358: RuntimeWarning: invalid value encountered in log2\n",
      "  result = getattr(ufunc, method)(*inputs, **kwargs)\n"
     ]
    },
    {
     "name": "stdout",
     "output_type": "stream",
     "text": [
      "Ery/Meg\n"
     ]
    },
    {
     "name": "stderr",
     "output_type": "stream",
     "text": [
      "/Users/jindalk/opt/anaconda3/lib/python3.8/site-packages/pandas/core/arraylike.py:358: RuntimeWarning: invalid value encountered in log2\n",
      "  result = getattr(ufunc, method)(*inputs, **kwargs)\n"
     ]
    },
    {
     "name": "stdout",
     "output_type": "stream",
     "text": [
      "Lym\n"
     ]
    },
    {
     "name": "stderr",
     "output_type": "stream",
     "text": [
      "/Users/jindalk/opt/anaconda3/lib/python3.8/site-packages/pandas/core/arraylike.py:358: RuntimeWarning: invalid value encountered in log2\n",
      "  result = getattr(ufunc, method)(*inputs, **kwargs)\n"
     ]
    },
    {
     "name": "stdout",
     "output_type": "stream",
     "text": [
      "pDC/Ccr7DC\n"
     ]
    },
    {
     "name": "stderr",
     "output_type": "stream",
     "text": [
      "/Users/jindalk/opt/anaconda3/lib/python3.8/site-packages/pandas/core/arraylike.py:358: RuntimeWarning: invalid value encountered in log2\n",
      "  result = getattr(ufunc, method)(*inputs, **kwargs)\n"
     ]
    },
    {
     "name": "stdout",
     "output_type": "stream",
     "text": [
      "Baso/Eos/Mast\n"
     ]
    },
    {
     "name": "stderr",
     "output_type": "stream",
     "text": [
      "/Users/jindalk/opt/anaconda3/lib/python3.8/site-packages/pandas/core/arraylike.py:358: RuntimeWarning: invalid value encountered in log2\n",
      "  result = getattr(ufunc, method)(*inputs, **kwargs)\n"
     ]
    }
   ],
   "source": [
    "gene_enrichment_table = {}\n",
    "nn_impute_dict = {'Mono':0,\n",
    "                  'Neutro':0,\n",
    "                  'Ery/Meg':0,\n",
    "                  'Baso/Eos/Mast':0,\n",
    "                  'pDC/Ccr7DC':0,\n",
    "                  'Lym':0}\n",
    "\n",
    "for fate in ['Mono', 'Neutro','Ery/Meg', 'Lym', 'pDC/Ccr7DC','Baso/Eos/Mast']:\n",
    "    print(fate)\n",
    "    clone_curr = clone_table_d2[clone_table_d2.fate == fate].copy()\n",
    "    \n",
    "#     if(nn_impute_dict[fate] > 0):\n",
    "#         print(\"performing knn imputation\")\n",
    "        \n",
    "#         #create k-nn graph\n",
    "#         atac_emb = pd.read_csv(\"../../lsk_atac_reanalysis/atac_analysis/output_files/lsk_subset2/lskatac_lsi.csv\", index_col=0)\n",
    "#         knn_graph = kneighbors_graph(atac_emb,nn_impute_dict[fate])\n",
    "#         atac_cells = atac_emb.index\n",
    "    \n",
    "#         # perform k-nn imputation\n",
    "#         cells_final = sf_utils.merge_nn(knn_graph, atac_cells, clone_curr['cell.bc'])\n",
    "        \n",
    "#     else:\n",
    "#         cells_final = clone_curr['cell.bc'].copy()\n",
    "    \n",
    "    cells_final = clone_curr['cell.bc']\n",
    "    gene_list = sf_utils.enrich_fn(cells_final, gene_expr_random_cells,gene_expr,col1_id=fate, col2_id=\"others\", return_sig=True)\n",
    "    gene_enrichment_table[fate] = gene_list\n",
    "    "
   ]
  },
  {
   "cell_type": "code",
   "execution_count": 61,
   "metadata": {},
   "outputs": [],
   "source": [
    "name_list = list(map(lambda x: \"-\".join(x.split(\"_\")), gene_enrichment_table.keys()))\n",
    "name_list = list(map(lambda x: \"_\".join(x.split(\"/\")), name_list))"
   ]
  },
  {
   "cell_type": "code",
   "execution_count": 62,
   "metadata": {},
   "outputs": [],
   "source": [
    "if not os.path.exists(\"220208/gene_expr\"):\n",
    "    os.makedirs(\"220208/gene_expr\")\n",
    "    \n",
    "for name_curr,dict_item in zip(name_list,gene_enrichment_table.items()):\n",
    "    dict_item[1].to_csv(f\"220208/gene_expr/{name_curr}_state_geneexpr_markers.csv\")"
   ]
  },
  {
   "cell_type": "code",
   "execution_count": null,
   "metadata": {},
   "outputs": [],
   "source": []
  }
 ],
 "metadata": {
  "kernelspec": {
   "display_name": "Python 3",
   "language": "python",
   "name": "python3"
  },
  "language_info": {
   "codemirror_mode": {
    "name": "ipython",
    "version": 3
   },
   "file_extension": ".py",
   "mimetype": "text/x-python",
   "name": "python",
   "nbconvert_exporter": "python",
   "pygments_lexer": "ipython3",
   "version": "3.8.8"
  }
 },
 "nbformat": 4,
 "nbformat_minor": 4
}
