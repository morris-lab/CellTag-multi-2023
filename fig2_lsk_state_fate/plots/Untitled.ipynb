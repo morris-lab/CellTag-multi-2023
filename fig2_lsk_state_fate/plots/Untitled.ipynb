{
 "cells": [
  {
   "cell_type": "code",
   "execution_count": 2,
   "metadata": {},
   "outputs": [],
   "source": [
    "def get_clone_cell_embed(adata_obj, clone_table):\n",
    "    '''\n",
    "    Creates clone cell embedding, returns combined object with new dims and cluster assignments\n",
    "    clone_table: columns: first column: cell.bc, second column: clone_id, (opt) third column and beyond: metadata to add to final object\n",
    "    '''\n",
    "    \n",
    "    all_clones = clone_table['clone_id'].unique()\n",
    "    all_obs = pd.concat((pd.Series(adata_obj.obs_names),pd.Series(all_clones)))\n",
    "    \n",
    "    #create coembed object\n",
    "    adata_obj_coembed = sc.AnnData(np.zeros(len(all_obs),100))\n",
    "    \n",
    "    #create new connectivities based on edge list\n",
    "    adata_obj_conn = adata_obj.obsp['connectivities']\n",
    "    \n",
    "    #impute clone cell edges\n",
    "    imp_rows = all_clones\n",
    "    imp_cols = adata_obj.obs_names\n",
    "    \n",
    "    #clone x cell connectivites\n",
    "    conn_impute = np.zeros((len(all_clones), len(adata_obj.obs_names)))\n",
    "    for i in clone_table.iterrows():\n",
    "        row_idx = i[1][1]\n",
    "        col_idx = i[1][0]\n",
    "\n",
    "        row_idx = np.where(imp_rows == row_idx)[0][0]\n",
    "        col_idx = np.where(imp_cols == col_idx)[0][0]\n",
    "        conn_impute[row_idx, col_idx] = 1\n",
    "        \n",
    "    adata_obj_conn2 = scipy.sparse.vstack((adata_obj_conn, scipy.sparse.csr_matrix(conn_impute)))\n",
    "    adata_obj_conn3 = scipy.sparse.vstack((scipy.sparse.csr_matrix(conn_impute).transpose(),\n",
    "                                        scipy.sparse.csr_matrix(np.zeros((len(all_clones),len(all_clones))))))\n",
    "    \n",
    "    adata_obj_conn_coembed = scipy.sparse.hstack((adata_obj_conn2, adata_obj_conn3))\n",
    "    adata_obj_conn_coembed = adata_obj_conn_coembed.tocsr()\n",
    "    \n",
    "    #assert that mtx is symmetric and diagonal is zero\n",
    "    assert((adata_obj_conn_coembed - adata_obj_conn_coembed.T).sum() == 0)\n",
    "    assert((adata_obj_conn_coembed.diagonal()==0).all())\n",
    "    \n",
    "    \n",
    "    #add data to coembed object\n",
    "    adata_obj_coembed.uns['neighbors'] = dict()\n",
    "    adata_obj_coembed.uns['neighbors']['params'] = adata_obj_coembed.uns['neighbors']['params']\n",
    "    adata_obj_coembed.obsp['connectivities'] = adata_obj_conn_coembed\n",
    "    \n",
    "    #run draw graph\n",
    "    sc.tl.draw_graph(adata_obj_coembed)\n",
    "    \n",
    "    #run leiden\n",
    "    sc.tl.leiden(adata_obj_coembed, key_added='leiden_coemb')\n",
    "    \n",
    "    #add metadata to clone object, if any\n",
    "    clone_table.index = clone_table.clone_id\n",
    "    adata_obj_coembed.obs = adata_obj_coembed.obs.merge(clone_table.iloc[:,1:].drop_duplicates(keep='first', subset = 'clone_id'),\n",
    "                                   left_index=True, right_index=True,validate='one_to_one', how='left')\n",
    "    \n",
    "    return(adata_obj_coembed)"
   ]
  },
  {
   "cell_type": "markdown",
   "metadata": {},
   "source": [
    "## Write a refined clone coembed function"
   ]
  },
  {
   "cell_type": "code",
   "execution_count": 3,
   "metadata": {},
   "outputs": [],
   "source": [
    "import numpy as np\n",
    "import pandas as pd\n",
    "import scanpy as sc"
   ]
  },
  {
   "cell_type": "code",
   "execution_count": null,
   "metadata": {},
   "outputs": [],
   "source": [
    "adata_cell = sc.read_h5ad(\"../pro\")"
   ]
  }
 ],
 "metadata": {
  "kernelspec": {
   "display_name": "Python 3",
   "language": "python",
   "name": "python3"
  },
  "language_info": {
   "codemirror_mode": {
    "name": "ipython",
    "version": 3
   },
   "file_extension": ".py",
   "mimetype": "text/x-python",
   "name": "python",
   "nbconvert_exporter": "python",
   "pygments_lexer": "ipython3",
   "version": "3.8.5"
  }
 },
 "nbformat": 4,
 "nbformat_minor": 4
}
